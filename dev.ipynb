{
 "cells": [
  {
   "cell_type": "markdown",
   "metadata": {},
   "source": [
    "pythonを色々テストするためのプロジェクト"
   ]
  },
  {
   "cell_type": "code",
   "execution_count": 1,
   "metadata": {},
   "outputs": [
    {
     "name": "stdout",
     "output_type": "stream",
     "text": [
      "Hello World\n"
     ]
    }
   ],
   "source": [
    "print(\"Hello World\")"
   ]
  },
  {
   "cell_type": "markdown",
   "metadata": {},
   "source": [
    "Requestsを使って、Yahooページを取得してみる"
   ]
  },
  {
   "cell_type": "code",
   "execution_count": 2,
   "metadata": {},
   "outputs": [],
   "source": [
    "import requests\n",
    "r = requests.get(\"https://news.yahoo.co.jp\")"
   ]
  },
  {
   "cell_type": "markdown",
   "metadata": {},
   "source": [
    "Beautiful Soupを使ってみる"
   ]
  },
  {
   "cell_type": "code",
   "execution_count": 5,
   "metadata": {},
   "outputs": [
    {
     "name": "stdout",
     "output_type": "stream",
     "text": [
      "[<h1>sayhello</h1>, <h1>saysay</h1>]\n"
     ]
    }
   ],
   "source": [
    "from bs4 import BeautifulSoup\n",
    "\n",
    "html = \"<h1>sayhello</h1>,<h1>saysay</h1>,<h2>say</h2>\"\n",
    "soup = BeautifulSoup(html, \"html.parser\")\n",
    "print(soup.select(\"h1\"))"
   ]
  },
  {
   "cell_type": "markdown",
   "metadata": {},
   "source": [
    "RequestsとBeautiful Soupを使ってnetkeibaのページを取得してみる"
   ]
  },
  {
   "cell_type": "code",
   "execution_count": 1,
   "metadata": {},
   "outputs": [
    {
     "ename": "TypeError",
     "evalue": "__init__() got an unexpected keyword argument 'headers'",
     "output_type": "error",
     "traceback": [
      "\u001b[0;31m---------------------------------------------------------------------------\u001b[0m",
      "\u001b[0;31mTypeError\u001b[0m                                 Traceback (most recent call last)",
      "Cell \u001b[0;32mIn[1], line 6\u001b[0m\n\u001b[1;32m      1\u001b[0m \u001b[38;5;28;01mfrom\u001b[39;00m\u001b[38;5;250m \u001b[39m\u001b[38;5;21;01mbs4\u001b[39;00m\u001b[38;5;250m \u001b[39m\u001b[38;5;28;01mimport\u001b[39;00m BeautifulSoup\n\u001b[1;32m      2\u001b[0m headers \u001b[38;5;241m=\u001b[39m {\n\u001b[1;32m      3\u001b[0m     \u001b[38;5;124m'\u001b[39m\u001b[38;5;124mUser-Agent\u001b[39m\u001b[38;5;124m'\u001b[39m: \u001b[38;5;124m'\u001b[39m\u001b[38;5;124mMozilla/5.0 xxxxxxxxxxxxxxxxxxxxxxxxx\u001b[39m\u001b[38;5;124m'\u001b[39m\n\u001b[1;32m      4\u001b[0m }\n\u001b[0;32m----> 6\u001b[0m soup \u001b[38;5;241m=\u001b[39m \u001b[43mBeautifulSoup\u001b[49m\u001b[43m(\u001b[49m\u001b[38;5;124;43m'\u001b[39;49m\u001b[38;5;124;43mhttps://race.netkeiba.com/race/result.html?race_id=202408060411&rf=race_list\u001b[39;49m\u001b[38;5;124;43m'\u001b[39;49m\u001b[43m,\u001b[49m\u001b[43m \u001b[49m\u001b[43mheaders\u001b[49m\u001b[38;5;241;43m=\u001b[39;49m\u001b[43mheaders\u001b[49m\u001b[43m)\u001b[49m\n\u001b[1;32m      7\u001b[0m \u001b[38;5;28mprint\u001b[39m(soup\u001b[38;5;241m.\u001b[39mselect(\u001b[38;5;124m'\u001b[39m\u001b[38;5;124mtable\u001b[39m\u001b[38;5;124m'\u001b[39m))\n",
      "File \u001b[0;32m~/develop/python/pythonTest/pythonTest/lib/python3.9/site-packages/bs4/__init__.py:375\u001b[0m, in \u001b[0;36mBeautifulSoup.__init__\u001b[0;34m(self, markup, features, builder, parse_only, from_encoding, exclude_encodings, element_classes, **kwargs)\u001b[0m\n\u001b[1;32m    371\u001b[0m \u001b[38;5;66;03m# At this point either we have a TreeBuilder instance in\u001b[39;00m\n\u001b[1;32m    372\u001b[0m \u001b[38;5;66;03m# builder, or we have a builder_class that we can instantiate\u001b[39;00m\n\u001b[1;32m    373\u001b[0m \u001b[38;5;66;03m# with the remaining **kwargs.\u001b[39;00m\n\u001b[1;32m    374\u001b[0m \u001b[38;5;28;01mif\u001b[39;00m builder \u001b[38;5;129;01mis\u001b[39;00m \u001b[38;5;28;01mNone\u001b[39;00m:\n\u001b[0;32m--> 375\u001b[0m     builder \u001b[38;5;241m=\u001b[39m \u001b[43mbuilder_class\u001b[49m\u001b[43m(\u001b[49m\u001b[38;5;241;43m*\u001b[39;49m\u001b[38;5;241;43m*\u001b[39;49m\u001b[43mkwargs\u001b[49m\u001b[43m)\u001b[49m\n\u001b[1;32m    376\u001b[0m     \u001b[38;5;28;01mif\u001b[39;00m (\n\u001b[1;32m    377\u001b[0m         \u001b[38;5;129;01mnot\u001b[39;00m original_builder\n\u001b[1;32m    378\u001b[0m         \u001b[38;5;129;01mand\u001b[39;00m \u001b[38;5;129;01mnot\u001b[39;00m (\n\u001b[0;32m   (...)\u001b[0m\n\u001b[1;32m    387\u001b[0m         \u001b[38;5;66;03m# The user did not tell us which TreeBuilder to use,\u001b[39;00m\n\u001b[1;32m    388\u001b[0m         \u001b[38;5;66;03m# and we had to guess. Issue a warning.\u001b[39;00m\n\u001b[1;32m    389\u001b[0m         \u001b[38;5;28;01mif\u001b[39;00m builder\u001b[38;5;241m.\u001b[39mis_xml:\n",
      "File \u001b[0;32m~/develop/python/pythonTest/pythonTest/lib/python3.9/site-packages/bs4/builder/_htmlparser.py:370\u001b[0m, in \u001b[0;36mHTMLParserTreeBuilder.__init__\u001b[0;34m(self, parser_args, parser_kwargs, **kwargs)\u001b[0m\n\u001b[1;32m    368\u001b[0m         value \u001b[38;5;241m=\u001b[39m kwargs\u001b[38;5;241m.\u001b[39mpop(arg)\n\u001b[1;32m    369\u001b[0m         extra_parser_kwargs[arg] \u001b[38;5;241m=\u001b[39m value\n\u001b[0;32m--> 370\u001b[0m \u001b[38;5;28;43msuper\u001b[39;49m\u001b[43m(\u001b[49m\u001b[43mHTMLParserTreeBuilder\u001b[49m\u001b[43m,\u001b[49m\u001b[43m \u001b[49m\u001b[38;5;28;43mself\u001b[39;49m\u001b[43m)\u001b[49m\u001b[38;5;241;43m.\u001b[39;49m\u001b[38;5;21;43m__init__\u001b[39;49m\u001b[43m(\u001b[49m\u001b[38;5;241;43m*\u001b[39;49m\u001b[38;5;241;43m*\u001b[39;49m\u001b[43mkwargs\u001b[49m\u001b[43m)\u001b[49m\n\u001b[1;32m    371\u001b[0m parser_args \u001b[38;5;241m=\u001b[39m parser_args \u001b[38;5;129;01mor\u001b[39;00m []\n\u001b[1;32m    372\u001b[0m parser_kwargs \u001b[38;5;241m=\u001b[39m parser_kwargs \u001b[38;5;129;01mor\u001b[39;00m {}\n",
      "\u001b[0;31mTypeError\u001b[0m: __init__() got an unexpected keyword argument 'headers'"
     ]
    }
   ],
   "source": [
    "from bs4 import BeautifulSoup\n",
    "headers = {\n",
    "    'User-Agent': 'Mozilla/5.0 xxxxxxxxxxxxxxxxxxxxxxxxx'\n",
    "}\n",
    "\n",
    "soup = BeautifulSoup('https://race.netkeiba.com/race/result.html?race_id=202408060411&rf=race_list', headers=headers)\n",
    "print(soup.select('table'))"
   ]
  }
 ],
 "metadata": {
  "kernelspec": {
   "display_name": "pythonTest",
   "language": "python",
   "name": "python3"
  },
  "language_info": {
   "codemirror_mode": {
    "name": "ipython",
    "version": 3
   },
   "file_extension": ".py",
   "mimetype": "text/x-python",
   "name": "python",
   "nbconvert_exporter": "python",
   "pygments_lexer": "ipython3",
   "version": "3.9.6"
  }
 },
 "nbformat": 4,
 "nbformat_minor": 2
}
